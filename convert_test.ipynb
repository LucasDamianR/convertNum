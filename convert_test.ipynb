{
 "cells": [
  {
   "cell_type": "code",
   "execution_count": 1,
   "metadata": {},
   "outputs": [],
   "source": [
    "from selenium import webdriver\n",
    "from selenium.webdriver.support.ui import WebDriverWait\n",
    "from selenium.webdriver.common.by import By\n",
    "from selenium.webdriver.support import expected_conditions as EC\n",
    "from selenium.webdriver.chrome.options import Options\n",
    "from bs4 import BeautifulSoup\n",
    "import requests\n",
    "from selenium.webdriver.common.action_chains import ActionChains"
   ]
  },
  {
   "cell_type": "code",
   "execution_count": 2,
   "metadata": {},
   "outputs": [],
   "source": [
    "user_agent = 'Mozilla/5.0 (X11; Linux x86_64) AppleWebKit/537.36 (KHTML, like Gecko) Chrome/60.0.3112.50 Safari/537.36'    \n",
    "\n",
    "#Inicializar el webdriver, en este caso es un chrome headless\n",
    "chrome_options = Options()  \n",
    "chrome_options.add_argument(\"--headless\")  \n",
    "chrome_options.add_argument(\"--no-sandbox\")\n",
    "chrome_options.add_argument(f'user-agent={user_agent}')\n",
    "chrome_options.add_argument(\"--window-size=1325x744\")\n",
    "browser = webdriver.Chrome('/usr/bin/chromedriver', options = chrome_options)"
   ]
  },
  {
   "cell_type": "code",
   "execution_count": 3,
   "metadata": {},
   "outputs": [],
   "source": [
    "#url a scrapear.\n",
    "url_base = 'https://tulengua.es/numeros-texto/default.aspx'"
   ]
  },
  {
   "cell_type": "code",
   "execution_count": 88,
   "metadata": {},
   "outputs": [
    {
     "name": "stdout",
     "output_type": "stream",
     "text": [
      "Número a convertir: 3.29\n",
      "El número 3.29 =  tres con veintinueve  centésimas\n"
     ]
    }
   ],
   "source": [
    "browser.get(url_base)\n",
    "#Buscar input/textbox \n",
    "INPUT = WebDriverWait(browser, 30).until(expected_conditions.presence_of_element_located((By.XPATH,'//*[@id=\"Main_Content_textBoxNumero\"]')))\n",
    "#Se pide número a convertir\n",
    "NUMERO_A_CONVERTIR = input(\"Número a convertir: \")\n",
    "\n",
    "INPUT.send_keys(NUMERO_A_CONVERTIR)\n",
    "\n",
    "\n",
    "#CLICKEAR EN EL BOTÓN DE ESPAÑOL// Se puede elegir inglés,español,italiano\n",
    "#//*[@id=\"Main_Content_ButtonConvertirItaliano\"]\n",
    "#'//*[@id=\"Main_Content_ButtonConvertir\"]'\n",
    "try:\n",
    "    browser.find_element_by_xpath('//*[@id=\"Main_Content_ButtonConvertir\"]').click()\n",
    "except:\n",
    "    print(\"Error en clickear\")\n",
    "\n",
    "#html de la web en (page)    \n",
    "page = BeautifulSoup(browser.page_source,'html.parser')  \n",
    "#Se busca el elemento con el resultado.\n",
    "RESULT = [i.tr.get_text() for i in page.find_all('tbody')][2]\n",
    "#Imprimir resultado\n",
    "print(f\"El número {NUMERO_A_CONVERTIR} = \",RESULT.strip())"
   ]
  }
 ],
 "metadata": {
  "kernelspec": {
   "display_name": "Python 3",
   "language": "python",
   "name": "python3"
  },
  "language_info": {
   "codemirror_mode": {
    "name": "ipython",
    "version": 3
   },
   "file_extension": ".py",
   "mimetype": "text/x-python",
   "name": "python",
   "nbconvert_exporter": "python",
   "pygments_lexer": "ipython3",
   "version": "3.7.1"
  }
 },
 "nbformat": 4,
 "nbformat_minor": 2
}
